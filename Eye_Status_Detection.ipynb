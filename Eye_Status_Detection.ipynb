{
 "cells": [
  {
   "cell_type": "code",
   "execution_count": 1,
   "id": "879c2be3-f799-4350-aee3-8e60a3ad1c22",
   "metadata": {},
   "outputs": [],
   "source": [
    "#Importing the packages\n",
    "import os\n",
    "import numpy as np\n",
    "import cv2\n",
    "import tensorflow as tf\n",
    "from tensorflow.keras.preprocessing.image import ImageDataGenerator\n",
    "from tensorflow.keras.models import Sequential\n",
    "from tensorflow.keras.layers import Conv2D, MaxPooling2D, Flatten, Dense, Dropout"
   ]
  },
  {
   "cell_type": "code",
   "execution_count": 2,
   "id": "77f6ccd3-9e71-42b3-9d88-9d7cf7a844f7",
   "metadata": {},
   "outputs": [
    {
     "name": "stdout",
     "output_type": "stream",
     "text": [
      "Found 31345 images belonging to 2 classes.\n",
      "Found 10448 images belonging to 2 classes.\n"
     ]
    }
   ],
   "source": [
    "#Reading and Preprocessing the data\n",
    "data_dir = 'data/Driver Drowsiness Dataset (DDD)'\n",
    "\n",
    "image_size = (64, 64)\n",
    "batch_size = 32\n",
    "\n",
    "train_datagen = ImageDataGenerator(\n",
    "    rescale=1./255, \n",
    "    shear_range=0.2,\n",
    "    zoom_range=0.2,\n",
    "    horizontal_flip=True,\n",
    "    validation_split=0.25\n",
    ")\n",
    "\n",
    "train_generator = train_datagen.flow_from_directory(\n",
    "    data_dir,\n",
    "    target_size=image_size,\n",
    "    batch_size=batch_size,\n",
    "    class_mode='binary',\n",
    "    subset='training',\n",
    "    classes=['Non Drowsy', 'Drowsy']\n",
    ")\n",
    "\n",
    "validation_generator = train_datagen.flow_from_directory(\n",
    "    data_dir,\n",
    "    target_size=image_size,\n",
    "    batch_size=batch_size,\n",
    "    class_mode='binary',\n",
    "    subset='validation',\n",
    "    classes=['Non Drowsy', 'Drowsy']\n",
    ")"
   ]
  },
  {
   "cell_type": "code",
   "execution_count": 3,
   "id": "58a66a58-57e3-45be-b096-f79b7a92a20d",
   "metadata": {},
   "outputs": [],
   "source": [
    "# Building the CNN model\n",
    "model = Sequential()\n",
    "model.add(Conv2D(32, (3, 3), activation='relu', input_shape=(64, 64, 3)))\n",
    "model.add(MaxPooling2D(pool_size=(2, 2)))\n",
    "model.add(Conv2D(64, (3, 3), activation='relu'))\n",
    "model.add(MaxPooling2D(pool_size=(2, 2)))\n",
    "model.add(Conv2D(128, (3, 3), activation='relu'))\n",
    "model.add(MaxPooling2D(pool_size=(2, 2)))\n",
    "model.add(Flatten())\n",
    "model.add(Dense(128, activation='relu'))\n",
    "model.add(Dropout(0.5))\n",
    "model.add(Dense(1, activation='sigmoid'))"
   ]
  },
  {
   "cell_type": "code",
   "execution_count": 4,
   "id": "58106c1f-baee-42d1-a4e7-f7a87cf36469",
   "metadata": {},
   "outputs": [],
   "source": [
    "# Compiling the model\n",
    "model.compile(optimizer='adam', loss='binary_crossentropy', metrics=['accuracy'])"
   ]
  },
  {
   "cell_type": "code",
   "execution_count": 5,
   "id": "84499bb7-1f6f-44d6-9463-4994b6b48d12",
   "metadata": {},
   "outputs": [
    {
     "name": "stdout",
     "output_type": "stream",
     "text": [
      "Epoch 1/10\n",
      "979/979 [==============================] - 117s 119ms/step - loss: 0.1473 - accuracy: 0.9293 - val_loss: 1.5449 - val_accuracy: 0.6641\n",
      "Epoch 2/10\n",
      "979/979 [==============================] - 118s 121ms/step - loss: 0.0144 - accuracy: 0.9952 - val_loss: 2.0990 - val_accuracy: 0.6956\n",
      "Epoch 3/10\n",
      "979/979 [==============================] - 121s 124ms/step - loss: 0.0094 - accuracy: 0.9970 - val_loss: 2.5296 - val_accuracy: 0.7436\n",
      "Epoch 4/10\n",
      "979/979 [==============================] - 130s 132ms/step - loss: 0.0091 - accuracy: 0.9973 - val_loss: 2.7502 - val_accuracy: 0.7169\n",
      "Epoch 5/10\n",
      "979/979 [==============================] - 138s 141ms/step - loss: 0.0058 - accuracy: 0.9980 - val_loss: 2.4133 - val_accuracy: 0.7580\n",
      "Epoch 6/10\n",
      "979/979 [==============================] - 136s 139ms/step - loss: 0.0047 - accuracy: 0.9986 - val_loss: 2.9473 - val_accuracy: 0.7482\n",
      "Epoch 7/10\n",
      "979/979 [==============================] - 134s 137ms/step - loss: 0.0093 - accuracy: 0.9975 - val_loss: 2.4665 - val_accuracy: 0.7452\n",
      "Epoch 8/10\n",
      "979/979 [==============================] - 138s 141ms/step - loss: 0.0039 - accuracy: 0.9989 - val_loss: 2.9251 - val_accuracy: 0.7138\n",
      "Epoch 9/10\n",
      "979/979 [==============================] - 133s 136ms/step - loss: 0.0077 - accuracy: 0.9978 - val_loss: 2.4717 - val_accuracy: 0.7523\n",
      "Epoch 10/10\n",
      "979/979 [==============================] - 134s 137ms/step - loss: 0.0032 - accuracy: 0.9991 - val_loss: 4.5405 - val_accuracy: 0.6185\n"
     ]
    }
   ],
   "source": [
    "# Training the model\n",
    "history = model.fit(\n",
    "    train_generator,\n",
    "    steps_per_epoch=train_generator.samples // batch_size,\n",
    "    epochs=10,\n",
    "    validation_data=validation_generator,\n",
    "    validation_steps=validation_generator.samples // batch_size\n",
    ")"
   ]
  },
  {
   "cell_type": "code",
   "execution_count": 6,
   "id": "7e01ea10-cc73-4572-bc72-2f540eaef72b",
   "metadata": {},
   "outputs": [
    {
     "name": "stdout",
     "output_type": "stream",
     "text": [
      "Model training complete and saved as 'eye_model.h5'\n"
     ]
    }
   ],
   "source": [
    "# Save the trained model\n",
    "model.save('eye_model.h5')\n",
    "\n",
    "print(\"Model training complete and saved as 'eye_model.h5'\")"
   ]
  },
  {
   "cell_type": "code",
   "execution_count": null,
   "id": "ff7c39b7-2a87-4480-bae1-690073aaf3b3",
   "metadata": {},
   "outputs": [],
   "source": []
  }
 ],
 "metadata": {
  "kernelspec": {
   "display_name": "Python 3 (ipykernel)",
   "language": "python",
   "name": "python3"
  },
  "language_info": {
   "codemirror_mode": {
    "name": "ipython",
    "version": 3
   },
   "file_extension": ".py",
   "mimetype": "text/x-python",
   "name": "python",
   "nbconvert_exporter": "python",
   "pygments_lexer": "ipython3",
   "version": "3.9.20"
  }
 },
 "nbformat": 4,
 "nbformat_minor": 5
}
